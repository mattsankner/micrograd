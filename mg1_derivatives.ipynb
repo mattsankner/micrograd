{
 "cells": [
  {
   "cell_type": "markdown",
   "id": "9ef7bdbf-a729-4d28-8702-0762716849d4",
   "metadata": {},
   "source": [
    "# Notebook 1: Derivatives  [![Open In Colab](https://colab.research.google.com/assets/colab-badge.svg)](https://colab.research.google.com/github/mattsankner/micrograd/blob/main/mg1_derivatives.ipynb)  [![View in nbviewer](https://img.shields.io/badge/view-nbviewer-orange)](https://nbviewer.jupyter.org/github/mattsankner/micrograd/blob/main/mg1_derivatives.ipynb)"
   ]
  },
  {
   "cell_type": "markdown",
   "id": "4e5d1fb8-dc21-40e1-862b-489a1bb978ae",
   "metadata": {},
   "source": [
    "# Welcome to the first mini micrograd lecture from the Andrej Karpathy Neural Net series! Let's dive right in."
   ]
  },
  {
   "cell_type": "code",
   "execution_count": 4,
   "id": "34d401d3-1c3e-4542-a259-cc8c75ae06fb",
   "metadata": {},
   "outputs": [],
   "source": [
    "import math\n",
    "import numpy as np\n",
    "import matplotlib.pyplot as plt\n",
    "%matplotlib inline"
   ]
  },
  {
   "cell_type": "markdown",
   "id": "d02688c9-c72e-4880-a69e-d6083424c81f",
   "metadata": {},
   "source": [
    "## Plotting Scalar Values on a Function"
   ]
  },
  {
   "cell_type": "markdown",
   "id": "ab91afde-f165-4908-a76a-4f143807238f",
   "metadata": {},
   "source": [
    "Scalar Value: a single numerical value. It can be an integer, a float, a real number, or a complex number. Scalars are used to represent quantities that have magnitude but no direction. \n",
    "\n",
    "Vectors, however, are different because they have both magnitude and direction. \n",
    "\n",
    "Let's define a scalar value function $f(x)$ that takes a single scalar $x$ and returns a single scalar $y$."
   ]
  },
  {
   "cell_type": "code",
   "execution_count": 27,
   "id": "9609d439-d288-4860-b5e9-74c9efb4648e",
   "metadata": {},
   "outputs": [],
   "source": [
    "def f(x):\n",
    "  return 3*x**2 - 4*x + 5"
   ]
  },
  {
   "cell_type": "code",
   "execution_count": 28,
   "id": "640afb5a-5fb4-4a5e-be2e-5efe763b6d33",
   "metadata": {},
   "outputs": [
    {
     "data": {
      "text/plain": [
       "20.0"
      ]
     },
     "execution_count": 28,
     "metadata": {},
     "output_type": "execute_result"
    }
   ],
   "source": [
    "f(3.0)"
   ]
  },
  {
   "cell_type": "markdown",
   "id": "a2955cd7-0a4a-4fae-a88d-4de619d946a4",
   "metadata": {},
   "source": [
    "We can get a sense of this quadratic function's shape with a plot. Let's make values for our plot in an array. We do this below using the numpy library, passing in a range and step size."
   ]
  },
  {
   "cell_type": "code",
   "execution_count": 8,
   "id": "b01be3f7-e091-4496-978d-f17ac54e16d1",
   "metadata": {},
   "outputs": [
    {
     "data": {
      "text/plain": [
       "array([-5.  , -4.75, -4.5 , -4.25, -4.  , -3.75, -3.5 , -3.25, -3.  ,\n",
       "       -2.75, -2.5 , -2.25, -2.  , -1.75, -1.5 , -1.25, -1.  , -0.75,\n",
       "       -0.5 , -0.25,  0.  ,  0.25,  0.5 ,  0.75,  1.  ,  1.25,  1.5 ,\n",
       "        1.75,  2.  ,  2.25,  2.5 ,  2.75,  3.  ,  3.25,  3.5 ,  3.75,\n",
       "        4.  ,  4.25,  4.5 ,  4.75])"
      ]
     },
     "execution_count": 8,
     "metadata": {},
     "output_type": "execute_result"
    }
   ],
   "source": [
    "#feed in scalar values from range -5 to 5, not including 5, in steps of .25\n",
    "xs = np.arange(-5, 5, 0.25)\n",
    "xs"
   ]
  },
  {
   "cell_type": "markdown",
   "id": "c6b189c6-a5bf-43bd-afad-caf22d6ede50",
   "metadata": {},
   "source": [
    "Now, we set $ys$ to the function of $xs$, effectively calling this function on the numpy array."
   ]
  },
  {
   "cell_type": "code",
   "execution_count": 11,
   "id": "4cadcdf2-d852-4775-8420-3c2112ccfe8c",
   "metadata": {},
   "outputs": [
    {
     "data": {
      "text/plain": [
       "array([100.    ,  91.6875,  83.75  ,  76.1875,  69.    ,  62.1875,\n",
       "        55.75  ,  49.6875,  44.    ,  38.6875,  33.75  ,  29.1875,\n",
       "        25.    ,  21.1875,  17.75  ,  14.6875,  12.    ,   9.6875,\n",
       "         7.75  ,   6.1875,   5.    ,   4.1875,   3.75  ,   3.6875,\n",
       "         4.    ,   4.6875,   5.75  ,   7.1875,   9.    ,  11.1875,\n",
       "        13.75  ,  16.6875,  20.    ,  23.6875,  27.75  ,  32.1875,\n",
       "        37.    ,  42.1875,  47.75  ,  53.6875])"
      ]
     },
     "execution_count": 11,
     "metadata": {},
     "output_type": "execute_result"
    }
   ],
   "source": [
    "#y's end up also applying f(x) on each one of these elemnents independently\n",
    "ys = f(xs)\n",
    "ys"
   ]
  },
  {
   "cell_type": "markdown",
   "id": "f8dea551-7230-45b5-84c8-7b39bda5c440",
   "metadata": {},
   "source": [
    "Passing these values into the function $f(x)$ will give us our curve we are looking for. We use the matplotlib.pyplot library to plot our function with the data passed in."
   ]
  },
  {
   "cell_type": "code",
   "execution_count": 12,
   "id": "61842056-b3c5-4c1a-a2d2-b2bf5a0bc235",
   "metadata": {},
   "outputs": [
    {
     "data": {
      "text/plain": [
       "[<matplotlib.lines.Line2D at 0x1140691d0>]"
      ]
     },
     "execution_count": 12,
     "metadata": {},
     "output_type": "execute_result"
    },
    {
     "data": {
      "image/png": "[encoded data removed]",
      "text/plain": [
       "<Figure size 640x480 with 1 Axes>"
      ]
     },
     "metadata": {},
     "output_type": "display_data"
    }
   ],
   "source": [
    "plt.plot(xs,ys)"
   ]
  },
  {
   "cell_type": "markdown",
   "id": "38859d9e-fb45-4426-92f1-0dabe881cff1",
   "metadata": {},
   "source": [
    "Look at the two outputs before the graph, and find the $8th$ to last element in each. We fed in $3$ (the x-coordinate, and got back $20$ (the y-coordinate). Now look at the graph above and see how it aligns. Nobody in neural nets actually writes out the exp for NN. It would be a massive amount of terms. \n",
    "\n",
    "Now, let's think through what the derivative of this function at different points $x$ of this function."
   ]
  },
  {
   "cell_type": "markdown",
   "id": "e119f1dd-486a-45b5-ad94-78d2dc8f4689",
   "metadata": {},
   "source": [
    "## Derivatives\n",
    "\n",
    "**Derivative: measures how the function's output value changes as its input value changes.** More precisely, the derivative of a function \n",
    "f at a point x represents the rate of change or the slope of the tangent line to the function's graph at that point."
   ]
  },
  {
   "cell_type": "markdown",
   "id": "414af5fe-04f5-41c1-b4d9-5e1dcc613587",
   "metadata": {},
   "source": [
    "$$ f(x) = \\frac{f(x+h) - f(x)}{h} $$"
   ]
  },
  {
   "cell_type": "markdown",
   "id": "71ba256e-cc49-4b39-ae5e-eef21742a1f3",
   "metadata": {},
   "source": [
    "This above function is known as the **difference quotient**. It represents the average rate of change of the function $x$ over the interval $h$. \n",
    "\n",
    "The derivative of $f(x)$ is the limit of the diffence quotient as $h$ gets smaller and smaller, approaching $0$, as below:"
   ]
  },
  {
   "cell_type": "markdown",
   "id": "8531b927-d936-488d-91d9-da9537ac988f",
   "metadata": {},
   "source": [
    "$$ f'(x) = \\lim_{{h \\to 0}} \\frac{f(x+h) - f(x)}{h} $$"
   ]
  },
  {
   "cell_type": "markdown",
   "id": "cc1fbdcc-f083-4440-a915-20cb8d3a711a",
   "metadata": {},
   "source": [
    "Basically, if you take a point $x$, and slightly bump it up by a small number $h$, we are calculating how the function responds (what is the slope, is it negative or positive, and how steep is it)?\n",
    "\n",
    "When we calculate this, we are finding the instantaneous rate of change of $f$ at a single point $x$ (**instantaneous** rate of **change** is a paradox, but that's outside the scope if this conversation). If the output changes (the limit exists), then $f$ is differentiable to $x$, which means the derivative of $f(x)$ is the value of the limit."
   ]
  },
  {
   "cell_type": "markdown",
   "id": "b5d22143-32df-42fb-9e7c-cab800e91f6f",
   "metadata": {},
   "source": [
    "Let's evaluate the derivative by picking a small $h$. We would expect the below to affect slope slightly positively, as we stick with the same value for $x$ as before. The function orignally returns $20$, so we would expect $f(x)$ to be slightly higher than $20$."
   ]
  },
  {
   "cell_type": "code",
   "execution_count": 16,
   "id": "2671412b-0a00-4428-bc00-ac1f1895d8df",
   "metadata": {},
   "outputs": [
    {
     "data": {
      "text/plain": [
       "20.014003000000002"
      ]
     },
     "execution_count": 16,
     "metadata": {},
     "output_type": "execute_result"
    }
   ],
   "source": [
    "h = 0.001\n",
    "x = 3.0\n",
    "f(x+h)"
   ]
  },
  {
   "cell_type": "markdown",
   "id": "30200051-a100-47dc-97bb-dc4dde673a6f",
   "metadata": {},
   "source": [
    "Great!\n",
    "\n",
    "**Now we want to know how much the function responds in the positive direction.** We normalize by the run ($rise/run$, or $h$) to get the slope (the numerical approx of the slope), because we have to make $h$ very very small to converge to the exact amount. \n",
    "\n",
    "If we do too many $0's$ in $h$, at some point, we get an incorrect answer because of floating point error. Representation of all numbers in computer memory is finite. We keep converging toward right answer by decrementing $h$.\n",
    "\n",
    "As we adjust $h$ to be smaller, derivative is slightly bigger. The derivative is $14$."
   ]
  },
  {
   "cell_type": "code",
   "execution_count": 20,
   "id": "933d86bd-d322-4b2d-88dc-5711955b69ce",
   "metadata": {},
   "outputs": [
    {
     "data": {
      "text/plain": [
       "14.00000009255109"
      ]
     },
     "execution_count": 20,
     "metadata": {},
     "output_type": "execute_result"
    }
   ],
   "source": [
    "h = 0.00000001\n",
    "x = 3.0\n",
    "(f(x+h) - f(x))/h"
   ]
  },
  {
   "cell_type": "markdown",
   "id": "31eb31a7-9bb1-43bf-a44a-6e4ec241592b",
   "metadata": {},
   "source": [
    "This means at $x = 3$, the slope is $14$. You can see that by differentiating it the original function your head (this is different than just plugging $x$ in to the original $f(x)$, if you are not familiar), and then plug in $x = 3$ to the differentiated equation:"
   ]
  },
  {
   "cell_type": "markdown",
   "id": "e3a144a2-c9a0-4713-9783-d784840cc49f",
   "metadata": {},
   "source": [
    "The function \\( f(x) \\) is given by: \n",
    "$$f(x) = 3x^2 - 4x + 5$$\n",
    "\n",
    "The derivative of \\( f(x) \\) is: \n",
    "\n",
    "$$f'(x) = \\frac{d}{dx}(3x^2 - 4x + 5) = 6x - 4$$\n",
    "\n",
    "$$f'(x) = 6(3) - 4 = 14$$\n"
   ]
  },
  {
   "cell_type": "markdown",
   "id": "babfb20a-2bb6-4e48-bc70-204804ae57bc",
   "metadata": {},
   "source": [
    "Differentiation is the process of finding the derivative of a function, which gives us the slope of the tangent line to the function at any given point.\n",
    "\n",
    "### The power rule for differentiation:\n",
    "The power rule states that if\n",
    "$f(x) = ax^n$ , then $f'(x) = anx^(n-1)$. \n",
    "\n",
    "Thus, $3x^2$ goes to $(2*3)x^(2-1) = 6x$, while $-4x$ goes to $-4$, and $5$ to $0$. The derivative of the constant term 5 is 0 (since the derivative of a constant is always zero."
   ]
  },
  {
   "cell_type": "markdown",
   "id": "d3829dd6-1b49-444c-b71d-29dea224f4aa",
   "metadata": {},
   "source": [
    "**What about the slope at $x = -3$?** Would you expect for the slope? Predicting the exact value is really hard, but what's the sign of that slope?\n",
    "\n",
    "If we slightly go in the positive direction at $x$, $f(x$ goes down, so the function is negative. So that tells us we would get something below $20$. Go ahead and change the $3.0$ to negative above and test it out (should be about $22$).\n",
    "\n",
    "At some point, the slope/derivative would be $0$. In this case, it's $2/3$ roughly. This is when if we nudge in a $+/-$ direction, the slope doesn't respond."
   ]
  },
  {
   "cell_type": "markdown",
   "id": "cb6195cc-99c4-42d1-98e3-388833ec1b06",
   "metadata": {},
   "source": [
    "## More complex examples to understand differentiation"
   ]
  },
  {
   "cell_type": "markdown",
   "id": "1b86543d-284d-4844-b855-50b356a4d0f9",
   "metadata": {},
   "source": [
    "Now, we have a function with output d that is a function of three scalar inputs a,b, and c. "
   ]
  },
  {
   "cell_type": "code",
   "execution_count": 22,
   "id": "0aea9646-177d-41f7-ab1f-a3754365b51b",
   "metadata": {},
   "outputs": [
    {
     "name": "stdout",
     "output_type": "stream",
     "text": [
      "4.0\n"
     ]
    }
   ],
   "source": [
    "a = 2.0\n",
    "b = -3.0\n",
    "c = 10.0\n",
    "d = a*b + c\n",
    "print(d)"
   ]
  },
  {
   "cell_type": "markdown",
   "id": "61538f93-4b6e-4083-81db-133c7121b9f7",
   "metadata": {},
   "source": [
    "In order to evaluate the derivative and learn what it's telling us, we're going to get a small value of $h$. Then, we fix inputs at some values that we're interested in, $a$, $b$, $c$. We are evaluating the derivative of $d$ with respect to  $a$, $b$, and $c$. \n",
    "\n",
    "$d1$ is that expression below. We'll start by calculating the derivative of $d$ with respect to $a$."
   ]
  },
  {
   "cell_type": "code",
   "execution_count": 23,
   "id": "10af1e1f-0d0f-4a07-bf2a-f1de5c5f4efe",
   "metadata": {},
   "outputs": [],
   "source": [
    "#tiny step\n",
    "h = 0.0001\n",
    "\n",
    "# inputs\n",
    "a = 2.0\n",
    "b = -3.0\n",
    "c = 10.0\n",
    "\n",
    "#function\n",
    "d1 = a*b + c\n",
    "\n",
    "#calculating the derivative of d with respect to a. a going slightly higher means a slightly higher b, which is negative. \n",
    "#This means a lower value of d2 below\n",
    "a += h \n",
    "\n",
    "#d2 being slightly greater than 4 or less than 4 tells us the sign of derivative.\n",
    "#if increasing a makes d2 go down, the derivative is negative\n",
    "d2 = a*b + c"
   ]
  },
  {
   "cell_type": "markdown",
   "id": "7be8b317-d6ac-40c7-bd4b-7eb6e7e3a5b6",
   "metadata": {},
   "source": [
    "**$d2$** tells us how much function increased when we bumped the specific input we're interested in by a tiny amount. \n",
    "This is then normalized by h to get the slope. The exact amount of slope is -3. "
   ]
  },
  {
   "cell_type": "code",
   "execution_count": 25,
   "id": "964ad61d-e9fd-4c4f-9bb9-1cef59909fe6",
   "metadata": {},
   "outputs": [
    {
     "name": "stdout",
     "output_type": "stream",
     "text": [
      "d1 4.0\n",
      "d2 3.999699999999999\n",
      "slope -3.000000000010772\n"
     ]
    }
   ],
   "source": [
    "print('d1', d1)\n",
    "print('d2', d2)\n",
    "print('slope', (d2 - d1)/h)  "
   ]
  },
  {
   "cell_type": "markdown",
   "id": "228c402c-c260-4987-913b-ec0a361574f8",
   "metadata": {},
   "source": [
    "**We can prove that $-3$ is correct: if you have $d =a*b + c$, differentiating that with respect to $a$ (calculating how much $d$ would change if you changed $a$ gives you just b because $c$ is a constant and does not change with $a$. The value of $b$ is $-3$, which is the derivative that we have calculated. Therefore, the derivative of $d = ab + c$ with respect to $a$ is indeed $b = -3$.**"
   ]
  },
  {
   "cell_type": "markdown",
   "id": "b7cf4999-d0f9-43a1-b4c1-139891da5294",
   "metadata": {},
   "source": [
    "If we bump $b$ a little bit in a positive direction, $(b+=h)$, then the slope goes up because $a$ is positive, resulting in a higher value for $d$. The slope of this increase $2$ because the derivative of $d$ with respect to $b$ gives us $a$, which is $2$ ($d$ by $db = a$)\n",
    "\n",
    "\n",
    "When you differentiate $d$ with respect to $b$, you get $a$, which is $2.0$. This means that for a small change in $b$, the change in $d$ will be proportional to $a$. This means that for a small change in $b$, $d$ changes by $2.0$ times that amount. The rate of change of $d$ with respect to $b$ is $2$.\n",
    "\n",
    "\n",
    "When we bump $c$ ... i.e $(c+=h),c$ becomes slightly higher, which makes the function $d$ increase by the exact amount added to $c$. This tells us that the slope is $1$. That's the rate at which $d$ will increase as we change $c$. Even if we make $h=1$ and not $0.00001$, the slope equals $1$, so it is always approaching $1$ and never exceeds it."
   ]
  },
  {
   "cell_type": "code",
   "execution_count": 29,
   "id": "084a112b-11da-448e-a63f-c0545d347c32",
   "metadata": {},
   "outputs": [
    {
     "name": "stdout",
     "output_type": "stream",
     "text": [
      "d1 4.0\n",
      "d2 5.0\n",
      "slope 1.0\n"
     ]
    }
   ],
   "source": [
    "h = 1 #could be 0.00001, etc.\n",
    "\n",
    "# inputs\n",
    "a = 2.0\n",
    "b = -3.0\n",
    "c = 10.0\n",
    "d1 = a*b + c\n",
    "\n",
    "#derivative of d with respect to a\n",
    "c += h \n",
    "d2 = a*b + c\n",
    "\n",
    "print('d1', d1)\n",
    "print('d2', d2)\n",
    "print('slope', (d2 - d1)/h) \n",
    "#how much function increased when we bumped the specific input (a,b,c) we're interested in by a tiny amount. \n",
    "#this is then normalized by h to get the slope."
   ]
  },
  {
   "cell_type": "markdown",
   "id": "2eb5eca8-94f5-4929-ba18-5f06f38f8d69",
   "metadata": {},
   "source": [
    "## Congrats on completing the first mini-lecture!"
   ]
  },
  {
   "cell_type": "markdown",
   "id": "36145db7-df04-4169-af61-2e1636139018",
   "metadata": {},
   "source": [
    "## Neural Networks need massive data structures to build out these basic expressions as they get bigger. That's what we'll build out in the next mini lecture. We're going begin building out the value object in the Andrej's readme, and begin to do backpropogation."
   ]
  }
 ],
 "metadata": {
  "kernelspec": {
   "display_name": "Python 3 (ipykernel)",
   "language": "python",
   "name": "python3"
  },
  "language_info": {
   "codemirror_mode": {
    "name": "ipython",
    "version": 3
   },
   "file_extension": ".py",
   "mimetype": "text/x-python",
   "name": "python",
   "nbconvert_exporter": "python",
   "pygments_lexer": "ipython3",
   "version": "3.11.4"
  }
 },
 "nbformat": 4,
 "nbformat_minor": 5
}
