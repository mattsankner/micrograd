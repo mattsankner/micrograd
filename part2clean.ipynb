{
 "cells": [
  {
   "cell_type": "code",
   "execution_count": 4,
   "id": "9cd5969b-4d8d-4e86-83f3-ba0df485755f",
   "metadata": {},
   "outputs": [],
   "source": [
    "import math\n",
    "import numpy as np\n",
    "import matplotlib.pyplot as plt"
   ]
  },
  {
   "cell_type": "code",
   "execution_count": 70,
   "id": "b92e87c0-e275-4cb0-8c31-6a862922b6a1",
   "metadata": {},
   "outputs": [],
   "source": [
    "from graphviz import Digraph\n",
    "\n",
    "def trace(root):\n",
    "  # builds a set of all nodes and edges in a graph\n",
    "  nodes, edges = set(), set()\n",
    "  def build(v):\n",
    "    if v not in nodes:\n",
    "      nodes.add(v)\n",
    "      for child in v._prev:\n",
    "        edges.add((child, v))\n",
    "        build(child)\n",
    "  build(root)\n",
    "  return nodes, edges\n",
    "\n",
    "def draw_dot(root):\n",
    "  dot = Digraph(format='svg', graph_attr={'rankdir': 'LR'}) # LR = left to right\n",
    "  \n",
    "  nodes, edges = trace(root)\n",
    "  for n in nodes:\n",
    "    uid = str(id(n))\n",
    "    # for any value in the graph, create a rectangular ('record') node for it\n",
    "    dot.node(name = uid, label = \"{ %s | data %.4f | grad %.4f }\" % (n.label, n.data, n.grad), shape='record')\n",
    "    if n._op:\n",
    "      # if this value is a result of some operation, create an op node for it\n",
    "      dot.node(name = uid + n._op, label = n._op)\n",
    "      # and connect this node to it\n",
    "      dot.edge(uid + n._op, uid)\n",
    "\n",
    "  for n1, n2 in edges:\n",
    "    # connect n1 to the op node of n2\n",
    "    dot.edge(str(id(n1)), str(id(n2)) + n2._op)\n",
    "\n",
    "  return dot"
   ]
  },
  {
   "cell_type": "code",
   "execution_count": 82,
   "id": "6d9e1e9d-49aa-4c46-88e2-ab6dc3abb116",
   "metadata": {},
   "outputs": [],
   "source": [
    "class Value:\n",
    "    def __init__(self, data, _children=(), _op='', label=''):\n",
    "        self.data = data\n",
    "        self.grad = 0.0\n",
    "        self._backward = lambda: None\n",
    "        self._prev = set(_children)\n",
    "        self._op = _op\n",
    "        self.label = label\n",
    "\n",
    "    def __repr__(self):\n",
    "        return f\"Value(data={self.data})\"\n",
    "\n",
    "    def __add__(self, other):\n",
    "        other = other if isinstance(other, Value) else Value(other)\n",
    "        out = Value(self.data + other.data, (self, other), '+')\n",
    "\n",
    "        def _backward():\n",
    "            self.grad += 1.0 * out.grad\n",
    "            other.grad += 1.0 * out.grad\n",
    "        out._backward = _backward\n",
    "\n",
    "        return out\n",
    "\n",
    "    def __mul__(self, other):\n",
    "        other = other if isinstance(other, Value) else Value(other)\n",
    "        out = Value(self.data * other.data, (self, other), '*')\n",
    "\n",
    "        def _backward():\n",
    "            self.grad += other.data * out.grad\n",
    "            other.grad += self.data * out.grad\n",
    "        out._backward = _backward\n",
    "\n",
    "        return out\n",
    "\n",
    "    def __neg__(self):\n",
    "        return self * -1\n",
    "\n",
    "    def __sub__(self, other):\n",
    "        return self + (-other)\n",
    "\n",
    "    def __pow__(self, other):\n",
    "        assert isinstance(other, (int, float)), \"only supporting int/float powers for now\"\n",
    "        out = Value(self.data ** other, (self,), f'**{other}')\n",
    "\n",
    "        def _backward():\n",
    "            self.grad += other * self.data ** (other - 1) * out.grad\n",
    "        out._backward = _backward\n",
    "        return out\n",
    "\n",
    "    def __rmul__(self, other):\n",
    "        return self * other\n",
    "\n",
    "    def __truediv__(self, other):\n",
    "        return self * other ** -1\n",
    "\n",
    "    def tanh(self):\n",
    "        x = self.data\n",
    "        t = (math.exp(2 * x) - 1) / (math.exp(2 * x) + 1)\n",
    "        out = Value(t, (self,), 'tanh')\n",
    "\n",
    "        def _backward():\n",
    "            self.grad += (1 - t ** 2) * out.grad\n",
    "        out._backward = _backward\n",
    "\n",
    "        return out\n",
    "\n",
    "    def exp(self):\n",
    "        x = self.data\n",
    "        out = Value(math.exp(x), (self,), 'exp')\n",
    "\n",
    "        def _backward():\n",
    "            self.grad += out.data * out.grad\n",
    "        out._backward = _backward\n",
    "        return out\n",
    "\n",
    "    def backward(self):\n",
    "        topo = []\n",
    "        visited = set()\n",
    "        def build_topo(v):\n",
    "            if v not in visited:\n",
    "                visited.add(v)\n",
    "                for child in v._prev:\n",
    "                    build_topo(child)\n",
    "                topo.append(v)\n",
    "        build_topo(self)\n",
    "\n",
    "        self.grad = 1.0\n",
    "        for node in reversed(topo):\n",
    "            node._backward()\n",
    "\n",
    "import random\n",
    "class Neuron:\n",
    "    def __init__(self, nin):\n",
    "        self.w = [Value(random.uniform(-1, 1)) for _ in range(nin)]\n",
    "        self.b = Value(random.uniform(-1, 1))\n",
    "\n",
    "    def __call__(self, x):\n",
    "        act = sum((wi * xi for wi, xi in zip(self.w, x)), self.b)\n",
    "        out = act.tanh()\n",
    "        return out\n",
    "    def parameters(self): #calling it this way because pytorch has params on every single nn module. Does same thing. \n",
    "        #Returns the param tensors.\n",
    "        #for us, return the param scalars\n",
    "        return self.w + [self.b]\n",
    "\n",
    "class Layer:\n",
    "    def __init__(self, nin, nout):\n",
    "        self.neurons = [Neuron(nin) for _ in range(nout)]\n",
    "\n",
    "    def __call__(self, x):\n",
    "        outs = [n(x) for n in self.neurons]\n",
    "        return outs[0] if len(outs) == 1 else outs\n",
    "        \n",
    "    def parameters(self):\n",
    "        params = []\n",
    "        for neuron in self.neurons:\n",
    "            ps = neuron.parameters()\n",
    "            params.extend(ps)\n",
    "        return params\n",
    "        # can also write it as return [p for neuron in self.neurons for p in neuron.parameters()\n",
    "\n",
    "class MLP:\n",
    "    def __init__(self, nin, nouts):\n",
    "        sz = [nin] + nouts\n",
    "        self.layers = [Layer(sz[i], sz[i + 1]) for i in range(len(nouts))]\n",
    "\n",
    "    def __call__(self, x):\n",
    "        for layer in self.layers:\n",
    "            x = layer(x)\n",
    "        return x\n",
    "    def parameters(self):\n",
    "        return [p for layer in self.layers for p in layer.parameters()]\n"
   ]
  },
  {
   "cell_type": "code",
   "execution_count": 90,
   "id": "bf5dedca-b7f2-46a9-8815-33c6574863c0",
   "metadata": {},
   "outputs": [
    {
     "data": {
      "text/plain": [
       "41"
      ]
     },
     "execution_count": 90,
     "metadata": {},
     "output_type": "execute_result"
    }
   ],
   "source": [
    "#have to reinit the MLP with the new functionality, then call n.parameters.\n",
    "#now, we get all of the weights and biases in the network. \n",
    "n.parameters()\n",
    "#and we can get total number of params in the MLP\n",
    "len(n.parameters())"
   ]
  },
  {
   "cell_type": "code",
   "execution_count": 113,
   "id": "172d482d-b0c9-409c-936b-6dba9038171b",
   "metadata": {},
   "outputs": [
    {
     "data": {
      "text/plain": [
       "Value(data=5.3627639612570315)"
      ]
     },
     "execution_count": 113,
     "metadata": {},
     "output_type": "execute_result"
    }
   ],
   "source": [
    "# Example dataset\n",
    "xs = [\n",
    "    [2.0, 3.0, -1.0],\n",
    "    [3.0, -1.0, 0.5],\n",
    "    [0.5, 1.0, 1.0],\n",
    "    [1.0, 1.0, -1.0],\n",
    "]\n",
    "ys = [1.0, -1.0, -1.0, 1.0]\n",
    "\n",
    "# Neural network\n",
    "n = MLP(3, [4, 4, 1])\n",
    "\n",
    "# Predictions\n",
    "ypred = [n(x) for x in xs]\n",
    "\n",
    "# Convert ys elements to Value objects\n",
    "ys_value = [Value(y) for y in ys]\n",
    "\n",
    "# Calculate the loss as a single Value object\n",
    "loss = sum([(yout - ygt) ** 2 for ygt, yout in zip(ys_value, ypred)], Value(0.0))\n",
    "loss\n",
    "\n",
    "#look at the weight of the first neuron in the first layer\n",
    "#n.layers[0].neurons[0].w[0]"
   ]
  },
  {
   "cell_type": "code",
   "execution_count": 155,
   "id": "17a992d6-c539-4d78-a131-3293a8ed453c",
   "metadata": {},
   "outputs": [],
   "source": [
    "# Call backward on the loss\n",
    "loss.backward() "
   ]
  },
  {
   "cell_type": "code",
   "execution_count": 141,
   "id": "03947dcb-3fd2-4542-a925-a07baf4aae8a",
   "metadata": {},
   "outputs": [
    {
     "data": {
      "text/plain": [
       "0.7549340458749865"
      ]
     },
     "execution_count": 141,
     "metadata": {},
     "output_type": "execute_result"
    }
   ],
   "source": [
    "n.layers[0].neurons[0].w[0].data"
   ]
  },
  {
   "cell_type": "code",
   "execution_count": 142,
   "id": "48530a84-a8e6-4f14-ba08-858152ac5471",
   "metadata": {},
   "outputs": [
    {
     "data": {
      "text/plain": [
       "1.9744494047819026"
      ]
     },
     "execution_count": 142,
     "metadata": {},
     "output_type": "execute_result"
    }
   ],
   "source": [
    "##something magical happened -> now... the value also has a grad because of the backward pass\n",
    "n.layers[0].neurons[0].w[0].grad\n",
    "\n",
    "#because the gradient in this particular weight in this particular neuron and particular layer is negative, it's influence on the loss\n",
    "#is also negative (when I'm running it now it's negative). So increasing it makes the loss go down. Have this info for all neurons and params"
   ]
  },
  {
   "cell_type": "code",
   "execution_count": 240,
   "id": "d217d901-d82d-4e8c-b135-bc45bbfa86da",
   "metadata": {},
   "outputs": [],
   "source": [
    "#now, we want to change all 41 params of the MLP slightly to lower the loss. When I'm running now, the grad \n",
    "#for n.layers[0].neurons[0].w[0] is pos, so I will negatively change the params to make loss go down\n",
    "#tiny update in gradient descent scheme\n",
    "#thinking of the gradient as a vector pointing in the direction of increased loss. We have to reverse it in the dir away from the loss\n",
    "#modifying p.data by a small step size in the direction of the gradient\n",
    "for p in n.parameters():\n",
    "    p.data -= 0.005 * p.grad #data goes up\n",
    "\n",
    "#slightly increasing the data makes the loss go down if the gradient is negative           loss<----d1---->d1 (loss goes down)\n",
    "#sligtly decreasing the data makes the loss go up if the gradient is negative              loss<----d2<----d1 (loss goes up)\n",
    "\n",
    "#slightly increasing the data mekes the loss go up if the graident is positive              --d1----->d2---->loss (loss goes up)\n",
    "#sligtly decreasing the data makes the loss go down if the gradient is positive            ----d2<----d1---->loss (loss goes down)\n",
    "\n",
    "\n",
    "#low loss means our predictions are matching the targets. Now, data is slightly closer to the targers.\n",
    "\n",
    "#keep improving the loss with forward pass, backward pass, and update parameters (this block and next two. Then check ypred to validate\n",
    "#that the predictions are close to the target values\n",
    "\n",
    "#be careful not to get too cocky with the size of the step... we're only aware of the local bell curve, so we could \n",
    "#go up the other way. If you set the learning rate too low, you'll take way to long to converge. But if you go too high, \n",
    "#the whole thing gets unstable and you explode to the other side\n"
   ]
  },
  {
   "cell_type": "code",
   "execution_count": 241,
   "id": "7588f184-7132-47f2-8e5d-8350e562a531",
   "metadata": {},
   "outputs": [
    {
     "data": {
      "text/plain": [
       "Value(data=0.00010702998053131608)"
      ]
     },
     "execution_count": 241,
     "metadata": {},
     "output_type": "execute_result"
    }
   ],
   "source": [
    "#Recalculate the loss\n",
    "ypred = [n(x) for x in xs]\n",
    "\n",
    "# Calculate the loss as a single Value object\n",
    "loss = sum([(yout - ygt) ** 2 for ygt, yout in zip(ys_value, ypred)], Value(0.0))\n",
    "loss\n"
   ]
  },
  {
   "cell_type": "code",
   "execution_count": 242,
   "id": "b5029d19-4e90-474f-9e4b-f3745da3a57b",
   "metadata": {},
   "outputs": [],
   "source": [
    "# Call backward on the loss\n",
    "loss.backward() "
   ]
  },
  {
   "cell_type": "code",
   "execution_count": 243,
   "id": "ea053377-212e-4eb2-9884-c6cfa84b53e2",
   "metadata": {},
   "outputs": [
    {
     "data": {
      "text/plain": [
       "[Value(data=0.99914010881412),\n",
       " Value(data=-0.9943214710049103),\n",
       " Value(data=-0.9914418797524301),\n",
       " Value(data=0.9991036440663317)]"
      ]
     },
     "execution_count": 243,
     "metadata": {},
     "output_type": "execute_result"
    }
   ],
   "source": [
    "ypred"
   ]
  },
  {
   "cell_type": "code",
   "execution_count": 244,
   "id": "3baee725-3029-4bb8-b934-4e1d2cbc5c43",
   "metadata": {},
   "outputs": [
    {
     "data": {
      "text/plain": [
       "[Value(data=1.0095700637038971),\n",
       " Value(data=-0.2377804510867051),\n",
       " Value(data=-0.6667434643261337),\n",
       " Value(data=0.3842807350753076),\n",
       " Value(data=-1.1958454644814924),\n",
       " Value(data=-0.8062319207594539),\n",
       " Value(data=0.308509936292178),\n",
       " Value(data=0.22821869087598673),\n",
       " Value(data=-0.054324477150777456),\n",
       " Value(data=-1.2667156541510765),\n",
       " Value(data=1.1273937307716906),\n",
       " Value(data=0.6080648588155663),\n",
       " Value(data=-0.30847622437818367),\n",
       " Value(data=-0.9443266665067251),\n",
       " Value(data=-0.8960665327582183),\n",
       " Value(data=-0.9460081448588619),\n",
       " Value(data=-0.5167834602655089),\n",
       " Value(data=-1.345041677298339),\n",
       " Value(data=-0.3713106306958373),\n",
       " Value(data=-0.6855116853333872),\n",
       " Value(data=1.1719433660479348),\n",
       " Value(data=-0.8645659973502634),\n",
       " Value(data=0.1573466064261112),\n",
       " Value(data=1.3637558674496009),\n",
       " Value(data=-0.008230600573384062),\n",
       " Value(data=0.5042778321760878),\n",
       " Value(data=0.08303922229823205),\n",
       " Value(data=0.3517083601731989),\n",
       " Value(data=0.8473349793586711),\n",
       " Value(data=-0.7154166830760262),\n",
       " Value(data=0.1256969549777361),\n",
       " Value(data=-0.672230501112637),\n",
       " Value(data=-0.1721086805117523),\n",
       " Value(data=1.5492970330639824),\n",
       " Value(data=0.41689274244879054),\n",
       " Value(data=0.5310419478792413),\n",
       " Value(data=0.505245823766437),\n",
       " Value(data=-1.529844535526503),\n",
       " Value(data=-0.5601701603965715),\n",
       " Value(data=-2.0507086581049423),\n",
       " Value(data=-0.2007081127480555)]"
      ]
     },
     "execution_count": 244,
     "metadata": {},
     "output_type": "execute_result"
    }
   ],
   "source": [
    "n.parameters()\n",
    "#this is the setting of weights and biases that makes our network predict our desired targets\n",
    "#very close. So we implemented a neural net. Now, let's make it respectable and implement a training loop"
   ]
  },
  {
   "cell_type": "code",
   "execution_count": 108,
   "id": "60d6fe63-e339-4cd3-9574-f083b57bffa5",
   "metadata": {},
   "outputs": [],
   "source": [
    "#draw_dot(loss) \n",
    "#previously we looked at the draw_dot for a single forward pass. \n",
    "#This one actually forwarded all four examples, loss on top with mean-squared error. Note the massive graph. Four forward passes of\n",
    "#a neural net for everyone of the examples, with loss on top, and ends with the value of the loss. This loss now backprops through \n",
    "#all 4 forward passes and every single intermediate\n",
    "#value of teh neural net, all the way back to the params of the weights (the inputs to the neural net)\n",
    "# (self.w + b, and xs ^^)\n",
    "#gradients for the inputs don't matter because input is fixed"
   ]
  },
  {
   "cell_type": "code",
   "execution_count": null,
   "id": "b4806c5f-de78-4237-a28d-a3a8dfd23c6c",
   "metadata": {},
   "outputs": [],
   "source": [
    "#Now, we are going to make some convenience code so we can operate on all of the parameters at once\n",
    "#- def params func\n"
   ]
  },
  {
   "cell_type": "code",
   "execution_count": null,
   "id": "009c7ebf-79e9-4411-91a1-17eb7a624dae",
   "metadata": {},
   "outputs": [],
   "source": []
  }
 ],
 "metadata": {
  "kernelspec": {
   "display_name": "Python 3 (ipykernel)",
   "language": "python",
   "name": "python3"
  },
  "language_info": {
   "codemirror_mode": {
    "name": "ipython",
    "version": 3
   },
   "file_extension": ".py",
   "mimetype": "text/x-python",
   "name": "python",
   "nbconvert_exporter": "python",
   "pygments_lexer": "ipython3",
   "version": "3.11.4"
  }
 },
 "nbformat": 4,
 "nbformat_minor": 5
}
